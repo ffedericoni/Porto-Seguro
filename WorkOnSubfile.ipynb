{
 "cells": [
  {
   "cell_type": "code",
   "execution_count": 85,
   "metadata": {},
   "outputs": [
    {
     "name": "stdout",
     "output_type": "stream",
     "text": [
      "           count           mean            std       min            25%  \\\n",
      "id      892816.0  744153.461357  429682.969773  0.000000  372021.750000   \n",
      "target  892816.0       0.036437       0.019690  0.006411       0.023846   \n",
      "\n",
      "                  50%           75%           max  \n",
      "id      744307.000000  1.116308e+06  1.488026e+06  \n",
      "target       0.031949  4.324739e-02  7.062234e-01  \n",
      "--------------\n",
      "           count           mean            std       min            25%  \\\n",
      "id      892816.0  744153.461357  429682.969773  0.000000  372021.750000   \n",
      "target  892816.0       0.035149       0.015286  0.006411       0.023846   \n",
      "\n",
      "                  50%           75%           max  \n",
      "id      744307.000000  1.116308e+06  1.488026e+06  \n",
      "target       0.031949  4.324739e-02  8.999894e-02  \n"
     ]
    }
   ],
   "source": [
    "# -*- coding: utf-8 -*-\n",
    "\"\"\"\n",
    "Created on Fri Oct  6 15:31:20 2017\n",
    "\n",
    "@author: NF299\n",
    "\"\"\"\n",
    "\n",
    "#Manipulate the submission file\n",
    "import pandas as pd\n",
    "import numpy as np\n",
    "\n",
    "sub = pd.read_csv('../input/subfile.csv')\n",
    "print(sub.describe().T)\n",
    "\n",
    "filter = sub.loc[:, 'target'] > 0.09\n",
    "#print(sub['target'].describe())\n",
    "#print(sub[filter, 'target'].describe())\n",
    "\n",
    "sub.loc[filter, 'target'] = np.random.normal(np.mean(sub)['target'], np.std(sub)['target']) #sub.loc[filter, 'target'] * 1.01\n",
    "\n",
    "print('--------------')\n",
    "print(sub.describe().T)\n",
    "#print(sub[filter, 'target'].describe())\n",
    "\n",
    "sub.to_csv('../input/Pump280.csv', index=False)\n",
    "\n",
    "\n"
   ]
  },
  {
   "cell_type": "code",
   "execution_count": 89,
   "metadata": {
    "collapsed": true
   },
   "outputs": [],
   "source": [
    "sub = pd.read_csv('../input/subfile.csv')"
   ]
  },
  {
   "cell_type": "code",
   "execution_count": 91,
   "metadata": {},
   "outputs": [
    {
     "name": "stdout",
     "output_type": "stream",
     "text": [
      "count     892816\n",
      "unique         2\n",
      "top        False\n",
      "freq      875239\n",
      "Name: target, dtype: object\n"
     ]
    },
    {
     "data": {
      "text/plain": [
       "17577"
      ]
     },
     "execution_count": 91,
     "metadata": {},
     "output_type": "execute_result"
    }
   ],
   "source": [
    "filter = sub.loc[:, 'target'] > 0.092\n",
    "print(filter.describe())\n",
    "len(filter[filter==True])"
   ]
  },
  {
   "cell_type": "code",
   "execution_count": 61,
   "metadata": {},
   "outputs": [
    {
     "data": {
      "text/plain": [
       "85538"
      ]
     },
     "execution_count": 61,
     "metadata": {},
     "output_type": "execute_result"
    }
   ],
   "source": [
    "len(filter[filter==True])"
   ]
  },
  {
   "cell_type": "code",
   "execution_count": 75,
   "metadata": {},
   "outputs": [
    {
     "data": {
      "text/plain": [
       "0.05303323048965537"
      ]
     },
     "execution_count": 75,
     "metadata": {},
     "output_type": "execute_result"
    }
   ],
   "source": [
    "np.random.normal(0.03643, 0.01969)"
   ]
  },
  {
   "cell_type": "code",
   "execution_count": 81,
   "metadata": {},
   "outputs": [
    {
     "data": {
      "text/plain": [
       "0.036514443506259563"
      ]
     },
     "execution_count": 81,
     "metadata": {},
     "output_type": "execute_result"
    }
   ],
   "source": [
    "sub.describe().loc['mean', 'target']"
   ]
  },
  {
   "cell_type": "code",
   "execution_count": 83,
   "metadata": {},
   "outputs": [
    {
     "data": {
      "text/plain": [
       "0.036514443506259563"
      ]
     },
     "execution_count": 83,
     "metadata": {},
     "output_type": "execute_result"
    }
   ],
   "source": [
    "np.mean(sub)['target']"
   ]
  },
  {
   "cell_type": "code",
   "execution_count": 84,
   "metadata": {},
   "outputs": [
    {
     "data": {
      "text/plain": [
       "0.019898552239754234"
      ]
     },
     "execution_count": 84,
     "metadata": {},
     "output_type": "execute_result"
    }
   ],
   "source": [
    "np.std(sub)['target']"
   ]
  },
  {
   "cell_type": "code",
   "execution_count": null,
   "metadata": {
    "collapsed": true
   },
   "outputs": [],
   "source": []
  }
 ],
 "metadata": {
  "kernelspec": {
   "display_name": "Python 3",
   "language": "python",
   "name": "python3"
  },
  "language_info": {
   "codemirror_mode": {
    "name": "ipython",
    "version": 3
   },
   "file_extension": ".py",
   "mimetype": "text/x-python",
   "name": "python",
   "nbconvert_exporter": "python",
   "pygments_lexer": "ipython3",
   "version": "3.6.1"
  }
 },
 "nbformat": 4,
 "nbformat_minor": 2
}
